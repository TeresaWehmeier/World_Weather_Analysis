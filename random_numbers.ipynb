{
 "cells": [
  {
   "cell_type": "markdown",
   "id": "a4e3a56a",
   "metadata": {},
   "source": [
    "# Random Number Practices"
   ]
  },
  {
   "cell_type": "markdown",
   "id": "608c6b42",
   "metadata": {},
   "source": [
    "## Import the random module"
   ]
  },
  {
   "cell_type": "code",
   "execution_count": 1,
   "id": "1918fdbc",
   "metadata": {},
   "outputs": [],
   "source": [
    "import random"
   ]
  },
  {
   "cell_type": "code",
   "execution_count": 31,
   "id": "9dee3cbb",
   "metadata": {},
   "outputs": [
    {
     "data": {
      "text/plain": [
       "-52"
      ]
     },
     "execution_count": 31,
     "metadata": {},
     "output_type": "execute_result"
    }
   ],
   "source": [
    "random.randint(-90, 90)"
   ]
  },
  {
   "cell_type": "code",
   "execution_count": 91,
   "id": "78d69954",
   "metadata": {},
   "outputs": [
    {
     "data": {
      "text/plain": [
       "0.6312933278837326"
      ]
     },
     "execution_count": 91,
     "metadata": {},
     "output_type": "execute_result"
    }
   ],
   "source": [
    "random.random()"
   ]
  },
  {
   "cell_type": "code",
   "execution_count": 119,
   "id": "d82f0395",
   "metadata": {},
   "outputs": [
    {
     "data": {
      "text/plain": [
       "-28.63015827652611"
      ]
     },
     "execution_count": 119,
     "metadata": {},
     "output_type": "execute_result"
    }
   ],
   "source": [
    "random_number = random.randint(-90,89) + random.random()\n",
    "\n",
    "random_number"
   ]
  },
  {
   "cell_type": "code",
   "execution_count": 121,
   "id": "6cc661be",
   "metadata": {},
   "outputs": [
    {
     "name": "stdout",
     "output_type": "stream",
     "text": [
      "2\n",
      "3\n",
      "4\n",
      "5\n",
      "6\n",
      "7\n",
      "8\n",
      "9\n",
      "10\n",
      "11\n"
     ]
    }
   ],
   "source": [
    "x = 1\n",
    "latitudes = []\n",
    "\n",
    "while x < 11:\n",
    "    random_lat = random.randint(-90,89) + random.random()\n",
    "    latitudes.append(random_lat)\n",
    "    x +=1\n",
    "    \n",
    "    print(x)"
   ]
  },
  {
   "cell_type": "code",
   "execution_count": 122,
   "id": "6002f774",
   "metadata": {},
   "outputs": [
    {
     "data": {
      "text/plain": [
       "[-27.40586841688834,\n",
       " 23.86160343173177,\n",
       " 73.45436758499893,\n",
       " 46.330145846033915,\n",
       " -76.47822491702794,\n",
       " 16.02105372917058,\n",
       " 74.14226310730447,\n",
       " -43.41007662495326,\n",
       " 60.568091311443126,\n",
       " -15.660275458923318]"
      ]
     },
     "execution_count": 122,
     "metadata": {},
     "output_type": "execute_result"
    }
   ],
   "source": [
    "latitudes"
   ]
  },
  {
   "cell_type": "code",
   "execution_count": 138,
   "id": "d7f20e43",
   "metadata": {},
   "outputs": [
    {
     "data": {
      "text/plain": [
       "27"
      ]
     },
     "execution_count": 138,
     "metadata": {},
     "output_type": "execute_result"
    }
   ],
   "source": [
    "random.randrange(-90,90, step=3)"
   ]
  },
  {
   "cell_type": "code",
   "execution_count": 149,
   "id": "6e0b31d7",
   "metadata": {},
   "outputs": [
    {
     "data": {
      "text/plain": [
       "24.64328989499319"
      ]
     },
     "execution_count": 149,
     "metadata": {},
     "output_type": "execute_result"
    }
   ],
   "source": [
    "random.uniform(-90,90)"
   ]
  },
  {
   "cell_type": "markdown",
   "id": "bf7735e2",
   "metadata": {},
   "source": [
    "## Import NumPy"
   ]
  },
  {
   "cell_type": "code",
   "execution_count": 151,
   "id": "5290e3b5",
   "metadata": {},
   "outputs": [],
   "source": [
    "import numpy as np"
   ]
  },
  {
   "cell_type": "code",
   "execution_count": 160,
   "id": "73eb3117",
   "metadata": {},
   "outputs": [
    {
     "data": {
      "text/plain": [
       "-58.552307315168605"
      ]
     },
     "execution_count": 160,
     "metadata": {},
     "output_type": "execute_result"
    }
   ],
   "source": [
    "np.random.uniform(-90.000, 90.000)"
   ]
  },
  {
   "cell_type": "markdown",
   "id": "8c1ebde8",
   "metadata": {},
   "source": [
    "### Option to above"
   ]
  },
  {
   "cell_type": "code",
   "execution_count": 177,
   "id": "0b5c7c6e",
   "metadata": {},
   "outputs": [
    {
     "data": {
      "text/plain": [
       "-73.21015859600897"
      ]
     },
     "execution_count": 177,
     "metadata": {},
     "output_type": "execute_result"
    }
   ],
   "source": [
    "np.random.uniform(low=-90, high=90)"
   ]
  },
  {
   "cell_type": "markdown",
   "id": "0c78114b",
   "metadata": {},
   "source": [
    "### Size creates the number of rows in the list"
   ]
  },
  {
   "cell_type": "code",
   "execution_count": 180,
   "id": "b63d2bae",
   "metadata": {},
   "outputs": [
    {
     "data": {
      "text/plain": [
       "array([-30.45688237, -43.45474748,  62.97965877, -32.32668283,\n",
       "       -87.19507499, -28.87139616, -42.66749333, -19.81223602,\n",
       "        14.12327569, -27.28757359, -44.36403774, -60.26211195,\n",
       "       -22.02417888,   6.85016191,  62.10959061,   4.29403661,\n",
       "       -77.6964953 , -69.83093492,  88.2353974 ,  28.0508454 ,\n",
       "        16.32572707, -13.87023886,  35.4084672 , -82.82923071,\n",
       "       -74.94581705, -49.54775826,  74.07354302, -49.03384469,\n",
       "       -23.78356345, -78.22152558, -54.81172714, -37.00785997,\n",
       "        48.82442092, -48.80799263, -11.59584846, -26.77356621,\n",
       "       -79.56951619, -17.22713701,  70.78538594, -79.58467253,\n",
       "       -39.43911054,  30.13053086,  55.85329502,  84.80676466,\n",
       "       -88.96113134, -62.67098304, -79.49263606,   2.78465867,\n",
       "         2.46843146, -26.09967469])"
      ]
     },
     "execution_count": 180,
     "metadata": {},
     "output_type": "execute_result"
    }
   ],
   "source": [
    "np.random.uniform(-90.000, 90.000, size=50)"
   ]
  },
  {
   "cell_type": "markdown",
   "id": "3d56ce38",
   "metadata": {},
   "source": [
    "## Import timeit module and add %timeit magic command"
   ]
  },
  {
   "cell_type": "code",
   "execution_count": 182,
   "id": "41fbb4db",
   "metadata": {},
   "outputs": [],
   "source": [
    "import timeit"
   ]
  },
  {
   "cell_type": "markdown",
   "id": "a47be81b",
   "metadata": {},
   "source": [
    "### Time how long it takes to run numpy random for 1500 rows"
   ]
  },
  {
   "cell_type": "code",
   "execution_count": 183,
   "id": "d9cc754f",
   "metadata": {},
   "outputs": [
    {
     "name": "stdout",
     "output_type": "stream",
     "text": [
      "17.9 µs ± 130 ns per loop (mean ± std. dev. of 7 runs, 100000 loops each)\n"
     ]
    }
   ],
   "source": [
    "%timeit np.random.uniform(-90.000, 90.000, size=1500)"
   ]
  },
  {
   "cell_type": "markdown",
   "id": "13b0e5ee",
   "metadata": {},
   "source": [
    "### Time how long it takes to do a while loop for the same 1500 rows"
   ]
  },
  {
   "cell_type": "code",
   "execution_count": 193,
   "id": "ccc058b2",
   "metadata": {},
   "outputs": [
    {
     "name": "stdout",
     "output_type": "stream",
     "text": [
      "1.87 µs ± 152 ns per loop (mean ± std. dev. of 7 runs, 1000000 loops each)\n"
     ]
    }
   ],
   "source": [
    "def latitudes(size):\n",
    "    latitudes = []\n",
    "    x=0\n",
    "    while x < (size):\n",
    "        random_lat = random.randint(-90,90) + random.random()\n",
    "        latitudes.append(random_lat)\n",
    "        x += 1\n",
    "        return latitudes\n",
    "# call the function with 1500\n",
    "\n",
    "%timeit latitudes(1500)"
   ]
  },
  {
   "cell_type": "code",
   "execution_count": 186,
   "id": "6417e8cd",
   "metadata": {},
   "outputs": [
    {
     "data": {
      "text/plain": [
       "<function __main__.latitudes(size)>"
      ]
     },
     "execution_count": 186,
     "metadata": {},
     "output_type": "execute_result"
    }
   ],
   "source": [
    "latitudes"
   ]
  },
  {
   "cell_type": "code",
   "execution_count": 194,
   "id": "ad5a0310",
   "metadata": {},
   "outputs": [
    {
     "data": {
      "text/plain": [
       "<function __main__.latitudes(size)>"
      ]
     },
     "execution_count": 194,
     "metadata": {},
     "output_type": "execute_result"
    }
   ],
   "source": [
    "latitudes"
   ]
  },
  {
   "cell_type": "code",
   "execution_count": 195,
   "id": "9501bfeb",
   "metadata": {},
   "outputs": [
    {
     "data": {
      "text/plain": [
       "<function __main__.latitudes(size)>"
      ]
     },
     "execution_count": 195,
     "metadata": {},
     "output_type": "execute_result"
    }
   ],
   "source": [
    "latitudes"
   ]
  },
  {
   "cell_type": "code",
   "execution_count": null,
   "id": "e4bef195",
   "metadata": {},
   "outputs": [],
   "source": []
  }
 ],
 "metadata": {
  "kernelspec": {
   "display_name": "PythonData",
   "language": "python",
   "name": "pythondata"
  },
  "language_info": {
   "codemirror_mode": {
    "name": "ipython",
    "version": 3
   },
   "file_extension": ".py",
   "mimetype": "text/x-python",
   "name": "python",
   "nbconvert_exporter": "python",
   "pygments_lexer": "ipython3",
   "version": "3.7.11"
  }
 },
 "nbformat": 4,
 "nbformat_minor": 5
}

{
 "cells": [
  {
   "cell_type": "markdown",
   "id": "a4e3a56a",
   "metadata": {},
   "source": [
    "# Random Number Practices"
   ]
  },
  {
   "cell_type": "markdown",
   "id": "608c6b42",
   "metadata": {},
   "source": [
    "## Import the random module"
   ]
  },
  {
   "cell_type": "code",
   "execution_count": 23,
   "id": "1918fdbc",
   "metadata": {},
   "outputs": [],
   "source": [
    "import random\n",
    "import pandas as pd"
   ]
  },
  {
   "cell_type": "code",
   "execution_count": 2,
   "id": "9dee3cbb",
   "metadata": {},
   "outputs": [
    {
     "data": {
      "text/plain": [
       "-38"
      ]
     },
     "execution_count": 2,
     "metadata": {},
     "output_type": "execute_result"
    }
   ],
   "source": [
    "random.randint(-90, 90)"
   ]
  },
  {
   "cell_type": "code",
   "execution_count": 3,
   "id": "78d69954",
   "metadata": {},
   "outputs": [
    {
     "data": {
      "text/plain": [
       "0.5820041821538138"
      ]
     },
     "execution_count": 3,
     "metadata": {},
     "output_type": "execute_result"
    }
   ],
   "source": [
    "random.random()"
   ]
  },
  {
   "cell_type": "code",
   "execution_count": 4,
   "id": "d82f0395",
   "metadata": {},
   "outputs": [
    {
     "data": {
      "text/plain": [
       "88.78484716429158"
      ]
     },
     "execution_count": 4,
     "metadata": {},
     "output_type": "execute_result"
    }
   ],
   "source": [
    "random_number = random.randint(-90,89) + random.random()\n",
    "\n",
    "random_number"
   ]
  },
  {
   "cell_type": "code",
   "execution_count": 5,
   "id": "6cc661be",
   "metadata": {},
   "outputs": [
    {
     "name": "stdout",
     "output_type": "stream",
     "text": [
      "2\n",
      "3\n",
      "4\n",
      "5\n",
      "6\n",
      "7\n",
      "8\n",
      "9\n",
      "10\n",
      "11\n"
     ]
    }
   ],
   "source": [
    "x = 1\n",
    "latitudes = []\n",
    "\n",
    "while x < 11:\n",
    "    random_lat = random.randint(-90,89) + random.random()\n",
    "    latitudes.append(random_lat)\n",
    "    x +=1\n",
    "    \n",
    "    print(x)"
   ]
  },
  {
   "cell_type": "code",
   "execution_count": 6,
   "id": "6002f774",
   "metadata": {},
   "outputs": [
    {
     "data": {
      "text/plain": [
       "[-36.610667549091225,\n",
       " 83.88578180553563,\n",
       " -34.360058468740455,\n",
       " 6.954857538471314,\n",
       " -8.313930426443045,\n",
       " 60.74294816390737,\n",
       " 8.705304184536223,\n",
       " 34.82625497189728,\n",
       " -5.747909593260204,\n",
       " -13.380422193075063]"
      ]
     },
     "execution_count": 6,
     "metadata": {},
     "output_type": "execute_result"
    }
   ],
   "source": [
    "latitudes"
   ]
  },
  {
   "cell_type": "code",
   "execution_count": 7,
   "id": "d7f20e43",
   "metadata": {},
   "outputs": [
    {
     "data": {
      "text/plain": [
       "66"
      ]
     },
     "execution_count": 7,
     "metadata": {},
     "output_type": "execute_result"
    }
   ],
   "source": [
    "random.randrange(-90,90, step=3)"
   ]
  },
  {
   "cell_type": "code",
   "execution_count": 8,
   "id": "6e0b31d7",
   "metadata": {},
   "outputs": [
    {
     "data": {
      "text/plain": [
       "33.6368487839963"
      ]
     },
     "execution_count": 8,
     "metadata": {},
     "output_type": "execute_result"
    }
   ],
   "source": [
    "random.uniform(-90,90)"
   ]
  },
  {
   "cell_type": "markdown",
   "id": "bf7735e2",
   "metadata": {},
   "source": [
    "## Import NumPy"
   ]
  },
  {
   "cell_type": "code",
   "execution_count": 9,
   "id": "5290e3b5",
   "metadata": {},
   "outputs": [],
   "source": [
    "import numpy as np"
   ]
  },
  {
   "cell_type": "code",
   "execution_count": 10,
   "id": "73eb3117",
   "metadata": {},
   "outputs": [
    {
     "data": {
      "text/plain": [
       "-28.34368895556581"
      ]
     },
     "execution_count": 10,
     "metadata": {},
     "output_type": "execute_result"
    }
   ],
   "source": [
    "np.random.uniform(-90.000, 90.000)"
   ]
  },
  {
   "cell_type": "markdown",
   "id": "8c1ebde8",
   "metadata": {},
   "source": [
    "### Option to above"
   ]
  },
  {
   "cell_type": "code",
   "execution_count": 11,
   "id": "0b5c7c6e",
   "metadata": {},
   "outputs": [
    {
     "data": {
      "text/plain": [
       "-38.56229149736228"
      ]
     },
     "execution_count": 11,
     "metadata": {},
     "output_type": "execute_result"
    }
   ],
   "source": [
    "np.random.uniform(low=-90, high=90)"
   ]
  },
  {
   "cell_type": "markdown",
   "id": "0c78114b",
   "metadata": {},
   "source": [
    "### Size creates the number of rows in the list"
   ]
  },
  {
   "cell_type": "code",
   "execution_count": 12,
   "id": "b63d2bae",
   "metadata": {},
   "outputs": [
    {
     "data": {
      "text/plain": [
       "array([ -0.35419189,  88.20121584,  28.62940143,  20.09521636,\n",
       "         3.67133156, -66.81483041,  36.00677262,  51.48350351,\n",
       "        -1.86875826, -37.10507737,  18.37822147, -89.65147955,\n",
       "        14.60425559,   7.87355874, -36.34326976, -59.71952518,\n",
       "       -15.72070352,   8.79561957,   9.55195297, -87.48008606,\n",
       "       -73.40679901,  22.06901237,  27.67721658,  72.43256882,\n",
       "        -5.23160869,  88.62571526,  13.73397863,  36.88230311,\n",
       "        87.24268843, -19.22605507,  -2.46917412,  47.03786293,\n",
       "       -12.96708562, -65.72369624,  35.45297963,  70.60507199,\n",
       "        39.03997939,  43.28283658,  32.62823787, -86.16452261,\n",
       "        12.40852709,  87.06649121,  70.08280709, -73.87350547,\n",
       "       -86.06453772, -51.0814231 ,  62.45285161, -30.60828816,\n",
       "        10.89948699,  -7.99934169])"
      ]
     },
     "execution_count": 12,
     "metadata": {},
     "output_type": "execute_result"
    }
   ],
   "source": [
    "np.random.uniform(-90.000, 90.000, size=50)"
   ]
  },
  {
   "cell_type": "markdown",
   "id": "3d56ce38",
   "metadata": {},
   "source": [
    "## Import timeit module and add %timeit magic command"
   ]
  },
  {
   "cell_type": "code",
   "execution_count": 13,
   "id": "41fbb4db",
   "metadata": {},
   "outputs": [],
   "source": [
    "import timeit"
   ]
  },
  {
   "cell_type": "markdown",
   "id": "a47be81b",
   "metadata": {},
   "source": [
    "### Time how long it takes to run numpy random for 1500 rows"
   ]
  },
  {
   "cell_type": "code",
   "execution_count": 14,
   "id": "d9cc754f",
   "metadata": {},
   "outputs": [
    {
     "name": "stdout",
     "output_type": "stream",
     "text": [
      "18.6 µs ± 1.37 µs per loop (mean ± std. dev. of 7 runs, 100000 loops each)\n"
     ]
    }
   ],
   "source": [
    "%timeit np.random.uniform(-90.000, 90.000, size=1500)"
   ]
  },
  {
   "cell_type": "markdown",
   "id": "13b0e5ee",
   "metadata": {},
   "source": [
    "### Time how long it takes to do a while loop for the same 1500 rows"
   ]
  },
  {
   "cell_type": "code",
   "execution_count": 15,
   "id": "ccc058b2",
   "metadata": {},
   "outputs": [
    {
     "name": "stdout",
     "output_type": "stream",
     "text": [
      "1.96 µs ± 218 ns per loop (mean ± std. dev. of 7 runs, 100000 loops each)\n"
     ]
    }
   ],
   "source": [
    "def latitudes(size):\n",
    "    latitudes = []\n",
    "    x=0\n",
    "    while x < (size):\n",
    "        random_lat = random.randint(-90,90) + random.random()\n",
    "        latitudes.append(random_lat)\n",
    "        x += 1\n",
    "        return latitudes\n",
    "# call the function with 1500\n",
    "\n",
    "%timeit latitudes(1500)"
   ]
  },
  {
   "cell_type": "code",
   "execution_count": 16,
   "id": "6417e8cd",
   "metadata": {},
   "outputs": [
    {
     "data": {
      "text/plain": [
       "<function __main__.latitudes(size)>"
      ]
     },
     "execution_count": 16,
     "metadata": {},
     "output_type": "execute_result"
    }
   ],
   "source": [
    "latitudes"
   ]
  },
  {
   "cell_type": "code",
   "execution_count": 17,
   "id": "ad5a0310",
   "metadata": {},
   "outputs": [
    {
     "data": {
      "text/plain": [
       "<function __main__.latitudes(size)>"
      ]
     },
     "execution_count": 17,
     "metadata": {},
     "output_type": "execute_result"
    }
   ],
   "source": [
    "latitudes"
   ]
  },
  {
   "cell_type": "code",
   "execution_count": 18,
   "id": "9501bfeb",
   "metadata": {},
   "outputs": [
    {
     "data": {
      "text/plain": [
       "<function __main__.latitudes(size)>"
      ]
     },
     "execution_count": 18,
     "metadata": {},
     "output_type": "execute_result"
    }
   ],
   "source": [
    "latitudes"
   ]
  },
  {
   "cell_type": "code",
   "execution_count": 19,
   "id": "e4bef195",
   "metadata": {},
   "outputs": [],
   "source": [
    "# import linear regression from SciPy stats module\n",
    "from scipy.stats import linregress"
   ]
  },
  {
   "cell_type": "code",
   "execution_count": 21,
   "id": "290d2348",
   "metadata": {},
   "outputs": [],
   "source": [
    "# load and read csv file\n",
    "city_data_to_load = \"weather_data/cities.csv\""
   ]
  },
  {
   "cell_type": "code",
   "execution_count": 25,
   "id": "cb9a0ca1",
   "metadata": {},
   "outputs": [],
   "source": [
    "city_data_df = pd.read_csv(city_data_to_load)"
   ]
  },
  {
   "cell_type": "code",
   "execution_count": 26,
   "id": "a53c942c",
   "metadata": {},
   "outputs": [],
   "source": [
    "# Extract relevant fields from the dataframe for plotting\n",
    "lats = city_data_df['Lat']\n",
    "max_temps = city_data_df['Max Temp']\n",
    "humidity = city_data_df['Humidity']\n",
    "cloudiness = city_data_df['Cloudiness']\n",
    "wind_speed = city_data_df['Wind Speed']"
   ]
  },
  {
   "cell_type": "code",
   "execution_count": 28,
   "id": "756ebed5",
   "metadata": {},
   "outputs": [
    {
     "name": "stdout",
     "output_type": "stream",
     "text": [
      "y = -0.64x + 64.57\n",
      "The p-value is: 0.000\n"
     ]
    }
   ],
   "source": [
    "# perform linear regression\n",
    "(slope, intercept, r_value, p_value, std_err) = linregress(lats, max_temps)\n",
    "\n",
    "# Get the equation of the line\n",
    "line_eq = 'y = ' + str(round(slope,2)) + 'x + ' + str(round(intercept,2))\n",
    "print(line_eq)\n",
    "print(f'The p-value is: {p_value:.3f}')"
   ]
  },
  {
   "cell_type": "code",
   "execution_count": 31,
   "id": "89b22ee6",
   "metadata": {},
   "outputs": [],
   "source": [
    "# Calculate the regression line 'y values' from the slope and intercept\n",
    "regress_values = [(lat * slope + intercept) for lat in lats]"
   ]
  },
  {
   "cell_type": "code",
   "execution_count": 32,
   "id": "9e4d8e64",
   "metadata": {},
   "outputs": [
    {
     "data": {
      "image/png": "[encoded data removed]",
      "text/plain": [
       "<Figure size 432x288 with 1 Axes>"
      ]
     },
     "metadata": {
      "needs_background": "light"
     },
     "output_type": "display_data"
    }
   ],
   "source": [
    "# Import Matplotlib\n",
    "import matplotlib.pyplot as plt\n",
    "\n",
    "# Create a scatter plot of the x and y values\n",
    "\n",
    "plt.scatter(lats, max_temps)\n",
    "\n",
    "# Plot the regression line with the x-values and the y coordinates base on the intercept and the slope\n",
    "plt.plot(lats, regress_values, 'r')\n",
    "\n",
    "# Annotate the text for the line equation and add its coordinates\n",
    "plt.annotate(line_eq, (10,40), fontsize=15, color = 'red')\n",
    "plt.xlabel('Latitude')\n",
    "plt.ylabel('Temp')\n",
    "plt.show()"
   ]
  },
  {
   "cell_type": "code",
   "execution_count": null,
   "id": "ac5bc58d",
   "metadata": {},
   "outputs": [],
   "source": []
  }
 ],
 "metadata": {
  "kernelspec": {
   "display_name": "PythonData",
   "language": "python",
   "name": "pythondata"
  },
  "language_info": {
   "codemirror_mode": {
    "name": "ipython",
    "version": 3
   },
   "file_extension": ".py",
   "mimetype": "text/x-python",
   "name": "python",
   "nbconvert_exporter": "python",
   "pygments_lexer": "ipython3",
   "version": "3.7.11"
  }
 },
 "nbformat": 4,
 "nbformat_minor": 5
}

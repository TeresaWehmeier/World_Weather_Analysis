{
 "cells": [
  {
   "cell_type": "markdown",
   "id": "e910d58f",
   "metadata": {},
   "source": [
    "# Module 6.1.4"
   ]
  },
  {
   "cell_type": "markdown",
   "id": "d17b9c7f",
   "metadata": {},
   "source": [
    "## Import dependencies"
   ]
  },
  {
   "cell_type": "code",
   "execution_count": 1,
   "id": "a459c274",
   "metadata": {},
   "outputs": [],
   "source": [
    "import pandas as pd\n",
    "import matplotlib.pyplot as plt\n",
    "import numpy as np"
   ]
  },
  {
   "cell_type": "code",
   "execution_count": 2,
   "id": "e931c474",
   "metadata": {},
   "outputs": [
    {
     "ename": "ModuleNotFoundError",
     "evalue": "No module named 'config'",
     "output_type": "error",
     "traceback": [
      "\u001b[1;31m---------------------------------------------------------------------------\u001b[0m",
      "\u001b[1;31mModuleNotFoundError\u001b[0m                       Traceback (most recent call last)",
      "\u001b[1;32m~\\AppData\\Local\\Temp/ipykernel_8200/3729658543.py\u001b[0m in \u001b[0;36m<module>\u001b[1;34m\u001b[0m\n\u001b[0;32m      1\u001b[0m \u001b[1;32mimport\u001b[0m \u001b[0mrequests\u001b[0m\u001b[1;33m\u001b[0m\u001b[1;33m\u001b[0m\u001b[0m\n\u001b[0;32m      2\u001b[0m \u001b[1;33m\u001b[0m\u001b[0m\n\u001b[1;32m----> 3\u001b[1;33m \u001b[1;32mfrom\u001b[0m \u001b[0mconfig\u001b[0m \u001b[1;32mimport\u001b[0m \u001b[0mweather_api_key\u001b[0m\u001b[1;33m\u001b[0m\u001b[1;33m\u001b[0m\u001b[0m\n\u001b[0m",
      "\u001b[1;31mModuleNotFoundError\u001b[0m: No module named 'config'"
     ]
    }
   ],
   "source": [
    "import requests\n",
    "\n",
    "from config import weather_api_key"
   ]
  },
  {
   "cell_type": "code",
   "execution_count": null,
   "id": "40e04069",
   "metadata": {},
   "outputs": [],
   "source": [
    "import time\n",
    "from datetime import datetime"
   ]
  },
  {
   "cell_type": "code",
   "execution_count": null,
   "id": "0243045a",
   "metadata": {},
   "outputs": [],
   "source": [
    "# load and read csv file\n",
    "city_data_to_load = \"weather_data/cities.csv\""
   ]
  },
  {
   "cell_type": "code",
   "execution_count": null,
   "id": "3d22b00f",
   "metadata": {},
   "outputs": [],
   "source": [
    "city_data_df = pd.read_csv(city_data_to_load)"
   ]
  },
  {
   "cell_type": "markdown",
   "id": "ebaebc5e",
   "metadata": {},
   "source": [
    "### Create an empty list to hold weather data"
   ]
  },
  {
   "cell_type": "code",
   "execution_count": null,
   "id": "1a1c589f",
   "metadata": {},
   "outputs": [],
   "source": [
    "city_data = []\n",
    "# print the beginning of the logging\n",
    "print('Beginning Data Retrieval        ')\n",
    "print('________________________________')\n",
    "\n",
    "# Create counters\n",
    "\n",
    "record_count = 1\n",
    "set_count = 1"
   ]
  },
  {
   "cell_type": "markdown",
   "id": "39b65743",
   "metadata": {},
   "source": [
    "### Create a set of random latitude and longitude combinations"
   ]
  },
  {
   "cell_type": "code",
   "execution_count": null,
   "id": "f1c1fb6d",
   "metadata": {},
   "outputs": [],
   "source": [
    "lats = np.random.uniform(low=-90., high=90., size = 1500)\n",
    "lngs = np.random.uniform(low=-180.,high=180., size = 1500)\n",
    "\n",
    "lat_lngs = zip(lats, lngs)\n",
    "\n",
    "lat_lngs"
   ]
  },
  {
   "cell_type": "markdown",
   "id": "2718d1c6",
   "metadata": {},
   "source": [
    "### Add the lats and longs to a list"
   ]
  },
  {
   "cell_type": "code",
   "execution_count": null,
   "id": "4ce592ed",
   "metadata": {},
   "outputs": [],
   "source": [
    "coordinates = list(lat_lngs)"
   ]
  },
  {
   "cell_type": "code",
   "execution_count": null,
   "id": "b6a56527",
   "metadata": {},
   "outputs": [],
   "source": [
    "for coordinate in coordinates:\n",
    "    print (coordinate[0], coordinate[1])"
   ]
  },
  {
   "cell_type": "markdown",
   "id": "35ec5a59",
   "metadata": {},
   "source": [
    "### Import Citipy"
   ]
  },
  {
   "cell_type": "code",
   "execution_count": null,
   "id": "cec8bb0d",
   "metadata": {},
   "outputs": [],
   "source": [
    "from citipy import citipy"
   ]
  },
  {
   "cell_type": "markdown",
   "id": "d889e978",
   "metadata": {},
   "source": [
    "### Create a list for holding the cities"
   ]
  },
  {
   "cell_type": "code",
   "execution_count": null,
   "id": "5f311766",
   "metadata": {},
   "outputs": [],
   "source": [
    "cities = []\n",
    "\n",
    "# identify the nearest city for each lat and long combo\n",
    "for coordinate in coordinates:\n",
    "    city = citipy.nearest_city(coordinate[0], coordinate[1]).city_name\n",
    "    \n",
    "    # If city is unique then add it to the cities list\n",
    "    if city not in cities:\n",
    "        cities.append(city)\n",
    "# print the city count to confirm sufficient count\n",
    "len(cities)"
   ]
  },
  {
   "cell_type": "markdown",
   "id": "c1bd873e",
   "metadata": {},
   "source": [
    "### Set URL for API call"
   ]
  },
  {
   "cell_type": "code",
   "execution_count": null,
   "id": "aa389854",
   "metadata": {},
   "outputs": [],
   "source": [
    "# Starting URL for Weather Map API Call.\n",
    "url = \"http://api.openweathermap.org/data/2.5/weather?units=Imperial&APPID=\" + weather_api_key\n"
   ]
  },
  {
   "cell_type": "markdown",
   "id": "51a2afe4",
   "metadata": {},
   "source": [
    "### loop through all the cities in our list"
   ]
  },
  {
   "cell_type": "code",
   "execution_count": null,
   "id": "f4eb8bcf",
   "metadata": {},
   "outputs": [],
   "source": [
    "for i, city in enumerate(cities):\n",
    "    \n",
    "    # group cities in sets of 50 for logging purposes\n",
    "    if (i % 50 == 0 and i >=50):\n",
    "        set_count +=1\n",
    "        record_count =1\n",
    "        time.sleep(60)\n",
    "        \n",
    "    # create endpoint URL with each city\n",
    "    city_url = url + '&q=' + city.replace(\" \",\"+\")\n",
    "    \n",
    "    # log the URL, record, adn set number and the city\n",
    "    print(f'Processing Record {record_count} of Set {set_count} | {city}')\n",
    "    \n",
    "    # Add 1 to the record count\n",
    "    record_count +=1\n",
    "  \n",
    "    # run an API request for each of the cities\n",
    "    try:\n",
    "        # parse the JSON and retrieve data\n",
    "        city_weather = requests.get(city_url).json()\n",
    "        # parse out the needed data\n",
    "        city_lat = city_weather['coord']['lat']\n",
    "        city_lng = city_weather['coord']['lon']\n",
    "        city_max_temp = city_weather['main']['temp_max']\n",
    "        city_humidity = city_weather['main']['humidity']\n",
    "        city_clouds = city_weather['clouds']['all']\n",
    "        city_wind = city_weather['wind']['speed']\n",
    "        city_country = city_weather['sys']['country']\n",
    "        # Convert the data to ISO standards\n",
    "        city_date = datetime.utcfromtimestamp(city_weather['dt']).strftime('%Y-%m-%d %H:%M:%S')\n",
    "        # append the city infomration into city_data list\n",
    "        city_data.append({'City': city.title(),\n",
    "                         'Lat': city_lat,\n",
    "                         'Lng': city_lng,\n",
    "                         'Max Temp': city_max_temp,\n",
    "                         'Humidity': city_humidity,\n",
    "                         'Cloudiness': city_clouds,\n",
    "                         'Wind Speed': city_wind,\n",
    "                         'Country': city_country,\n",
    "                         'Date': city_date})\n",
    "    # if an error is experienced, skip the city\n",
    "    except:\n",
    "        print('City not found. Skipping...')\n",
    "        pass\n",
    "\n",
    "# Indicate that data loading is complete\n",
    "print('_____________________________________/n')\n",
    "print('Data Retrieval Complete              /n')\n",
    "print('_____________________________________/n')\n",
    "\n"
   ]
  },
  {
   "cell_type": "code",
   "execution_count": null,
   "id": "aef9878c",
   "metadata": {},
   "outputs": [],
   "source": [
    "len(cities)"
   ]
  },
  {
   "cell_type": "code",
   "execution_count": null,
   "id": "20c9331c",
   "metadata": {},
   "outputs": [],
   "source": [
    "len(city_weather)"
   ]
  },
  {
   "cell_type": "code",
   "execution_count": null,
   "id": "41579599",
   "metadata": {},
   "outputs": [],
   "source": [
    "print(cities)"
   ]
  },
  {
   "cell_type": "code",
   "execution_count": null,
   "id": "d351350d",
   "metadata": {},
   "outputs": [],
   "source": [
    "len(city_url)"
   ]
  },
  {
   "cell_type": "code",
   "execution_count": null,
   "id": "27192d03",
   "metadata": {},
   "outputs": [],
   "source": [
    "city_data_df = pd.DataFrame(city_data)\n",
    "\n",
    "city_data_df.head(10)"
   ]
  },
  {
   "cell_type": "code",
   "execution_count": null,
   "id": "fdd44da4",
   "metadata": {},
   "outputs": [],
   "source": [
    "new_column_order = ['City', 'Country','Date','Lat','Lng','Max Temp','Humidity','Cloudiness','Wind Speed']\n",
    "\n",
    "city_data_df = city_data_df[new_column_order]"
   ]
  },
  {
   "cell_type": "code",
   "execution_count": null,
   "id": "a3e4ceee",
   "metadata": {},
   "outputs": [],
   "source": [
    "city_data_df.head(10)"
   ]
  },
  {
   "cell_type": "code",
   "execution_count": null,
   "id": "671cb52a",
   "metadata": {},
   "outputs": [],
   "source": [
    "# Create the output file (CSV)\n",
    "output_data_file = 'weather_data/cities.csv'\n",
    "\n",
    "# Export the city_data into a CSV\n",
    "city_data_df.to_csv(output_data_file, index_label='City_ID')\n"
   ]
  },
  {
   "cell_type": "code",
   "execution_count": null,
   "id": "d0f1c61c",
   "metadata": {},
   "outputs": [],
   "source": [
    "# Extract relevant fields from the dataframe for plotting\n",
    "lats = city_data_df['Lat']\n",
    "max_temps = city_data_df['Max Temp']\n",
    "humidity = city_data_df['Humidity']\n",
    "cloudiness = city_data_df['Cloudiness']\n",
    "wind_speed = city_data_df['Wind Speed']\n"
   ]
  },
  {
   "cell_type": "code",
   "execution_count": null,
   "id": "6f187609",
   "metadata": {},
   "outputs": [],
   "source": [
    "# import the time module\n",
    "import time\n",
    "\n",
    "# Get today's date in seconds\n",
    "today = time.strftime('%x')\n",
    "today"
   ]
  },
  {
   "cell_type": "code",
   "execution_count": null,
   "id": "6bc4a325",
   "metadata": {},
   "outputs": [],
   "source": [
    "# Bbuild the scatter plot for latitude vs max temperatures\n",
    "plt.scatter(lats,\n",
    "           max_temps,\n",
    "           edgecolor='black',linewidths=1,marker='o',\n",
    "           alpha=0.8, label='Cities')\n",
    "\n",
    "# Incorporate the other graph properties\n",
    "plt.title(f'City Latitude vs. Max Temperature ' + time.strftime('%x'))\n",
    "plt.ylabel('Max Temperature (F)')\n",
    "plt.xlabel('Latitude')\n",
    "plt.grid(True)\n",
    "\n",
    "# Save the figure\n",
    "plt.savefig('weather_data/Fig1.png')\n",
    "\n",
    "# Show plot\n",
    "plt.show()"
   ]
  },
  {
   "cell_type": "code",
   "execution_count": null,
   "id": "b6108cfe",
   "metadata": {},
   "outputs": [],
   "source": [
    "# Bbuild the scatter plot for latitude vs max temperatures\n",
    "plt.scatter(lats,\n",
    "           humidity,\n",
    "           edgecolor='black',linewidths=1,marker='o',\n",
    "           alpha=0.8, label='Cities')\n",
    "\n",
    "# Incorporate the other graph properties\n",
    "plt.title(f'City Latitude vs. Humidity ' + time.strftime('%x'))\n",
    "plt.ylabel('Humidity (%)')\n",
    "plt.xlabel('Latitude')\n",
    "plt.grid(True)\n",
    "\n",
    "# Save the figure\n",
    "plt.savefig('weather_data/Fig2.png')\n",
    "\n",
    "# Show plot\n",
    "plt.show()"
   ]
  },
  {
   "cell_type": "code",
   "execution_count": null,
   "id": "e9999bc3",
   "metadata": {},
   "outputs": [],
   "source": [
    "# Bbuild the scatter plot for latitude vs max temperatures\n",
    "plt.scatter(lats,\n",
    "           cloudiness,\n",
    "           edgecolor='black',linewidths=1,marker='o',\n",
    "           alpha=0.8, label='Cities')\n",
    "\n",
    "# Incorporate the other graph properties\n",
    "plt.title(f'City Latitude vs. Cloudiness (%) ' + time.strftime('%x'))\n",
    "plt.ylabel('Cloudiness (%)')\n",
    "plt.xlabel('Latitude')\n",
    "plt.grid(True)\n",
    "\n",
    "# Save the figure\n",
    "plt.savefig('weather_data/Fig3.png')\n",
    "\n",
    "# Show plot\n",
    "plt.show()"
   ]
  },
  {
   "cell_type": "code",
   "execution_count": null,
   "id": "649a8ee4",
   "metadata": {},
   "outputs": [],
   "source": [
    "# Bbuild the scatter plot for latitude vs max temperatures\n",
    "plt.scatter(lats,\n",
    "           wind_speed,\n",
    "           edgecolor='black',linewidths=1,marker='o',\n",
    "           alpha=0.8, label='Cities')\n",
    "\n",
    "# Incorporate the other graph properties\n",
    "plt.title(f'City Latitude vs. Wind Speed ' + time.strftime('%x'))\n",
    "plt.ylabel('Wind Speed (mph)')\n",
    "plt.xlabel('Latitude')\n",
    "plt.grid(True)\n",
    "\n",
    "# Save the figure\n",
    "plt.savefig('weather_data/Fig4.png')\n",
    "\n",
    "# Show plot\n",
    "plt.show()"
   ]
  },
  {
   "cell_type": "code",
   "execution_count": null,
   "id": "7773fb4f",
   "metadata": {},
   "outputs": [],
   "source": [
    "# Import linregress\n",
    "from scipy.stats import linregress"
   ]
  },
  {
   "cell_type": "code",
   "execution_count": null,
   "id": "ee780f54",
   "metadata": {},
   "outputs": [],
   "source": [
    "# Create a function to perform linear regression on the weather data \n",
    "# and plot a regression line and the equation with the data\n",
    "\n",
    "def plot_linear_regression(x_values, y_values, title, y_label, text_coordinates):\n",
    "    # Run regression on hemisphere weather data\n",
    "    (slope, intercept, r_value, p_value, std_err) = linregress(x_values, y_values)\n",
    "    \n",
    "    # calculate the regression line 'y values' from the slope and intercept\n",
    "    regress_values = x_values * slope + intercept\n",
    "    # get the equation of the line\n",
    "    line_eq = 'y = ' + str(round(slope,2)) + 'x + ' + str(round(intercept,2))\n",
    "    # Create a scatter plot and plot the regression line\n",
    "    plt.scatter(x_values, y_values)\n",
    "    plt.plot(x_values, regress_values, 'r')\n",
    "    # Annotate teh text for the line equation\n",
    "    plt.annotate(line_eq, text_coordinates, fontsize=15, color='red')\n",
    "    plt.title(title)\n",
    "    plt.xlabel('Latitude')\n",
    "    plt.ylabel(y_label)\n",
    "    plt.show()"
   ]
  },
  {
   "cell_type": "code",
   "execution_count": null,
   "id": "2b56f125",
   "metadata": {},
   "outputs": [],
   "source": [
    "index13 = city_data_df.loc[13]\n",
    "index13"
   ]
  },
  {
   "cell_type": "code",
   "execution_count": null,
   "id": "a40bdfa5",
   "metadata": {},
   "outputs": [],
   "source": [
    "city_data_df['Lat'] >=0"
   ]
  },
  {
   "cell_type": "code",
   "execution_count": null,
   "id": "fe60d033",
   "metadata": {},
   "outputs": [],
   "source": [
    "city_data_df.loc[(city_data_df['Lat'] >=0)].head()"
   ]
  },
  {
   "cell_type": "code",
   "execution_count": null,
   "id": "3c748813",
   "metadata": {},
   "outputs": [],
   "source": [
    "northern_hemi_df = city_data_df.loc[(city_data_df['Lat'] >=0)]\n",
    "southern_hemi_df = city_data_df.loc[(city_data_df['Lat'] <0)]"
   ]
  },
  {
   "cell_type": "code",
   "execution_count": null,
   "id": "ce689bfb",
   "metadata": {},
   "outputs": [],
   "source": [
    "# Linear regression on the Northern Hemisphere\n",
    "x_values = northern_hemi_df[\"Lat\"]\n",
    "y_values = northern_hemi_df[\"Max Temp\"]\n",
    "# Call the function.\n",
    "plot_linear_regression(x_values, y_values,\n",
    "                       'Linear Regression on the Northern Hemisphere'+ '\\n' +\n",
    "                       'for Maximum Temperature', 'Max Temp',(10,0))"
   ]
  },
  {
   "cell_type": "code",
   "execution_count": null,
   "id": "a4c6c98a",
   "metadata": {},
   "outputs": [],
   "source": [
    "# Linear regression on the Northern Hemisphere\n",
    "x_values = southern_hemi_df[\"Lat\"]\n",
    "y_values = southern_hemi_df[\"Max Temp\"]\n",
    "# Call the function.\n",
    "plot_linear_regression(x_values, y_values,\n",
    "                       'Linear Regression on the Southern Hemisphere'+ '\\n' +\n",
    "                       'for Maximum Temperature', 'Max Temp',(-50,90))"
   ]
  },
  {
   "cell_type": "code",
   "execution_count": null,
   "id": "7d3cefeb",
   "metadata": {},
   "outputs": [],
   "source": [
    "# Linear regression on the Northern Hemisphere\n",
    "x_values = northern_hemi_df[\"Lat\"]\n",
    "y_values = northern_hemi_df[\"Humidity\"]\n",
    "# Call the function.\n",
    "plot_linear_regression(x_values, y_values,\n",
    "                       'Linear Regression on the Northern Hemisphere for Humidity', 'Humidity',(40,20))"
   ]
  },
  {
   "cell_type": "code",
   "execution_count": null,
   "id": "af1cfaf5",
   "metadata": {},
   "outputs": [],
   "source": [
    "# Linear regression on the Northern Hemisphere\n",
    "x_values = southern_hemi_df[\"Lat\"]\n",
    "y_values = southern_hemi_df[\"Humidity\"]\n",
    "# Call the function.\n",
    "plot_linear_regression(x_values, y_values,\n",
    "                       'Linear Regression on the Southern Hemisphere'+ '\\n' +\n",
    "                       'for %Humidity', 'Humidity',(-40,30))"
   ]
  },
  {
   "cell_type": "code",
   "execution_count": null,
   "id": "ea3546bb",
   "metadata": {},
   "outputs": [],
   "source": [
    "# Linear regression on the Northern Hemisphere\n",
    "x_values = northern_hemi_df[\"Lat\"]\n",
    "y_values = northern_hemi_df[\"Cloudiness\"]\n",
    "# Call the function.\n",
    "plot_linear_regression(x_values, y_values,\n",
    "                       'Linear Regression on the Northern Hemisphere'+ '\\n' +\n",
    "                       'for % Cloudiness', 'Cloudiness',(40,45))"
   ]
  },
  {
   "cell_type": "code",
   "execution_count": null,
   "id": "161bd808",
   "metadata": {},
   "outputs": [],
   "source": [
    "# Linear regression on the Northern Hemisphere\n",
    "x_values = southern_hemi_df[\"Lat\"]\n",
    "y_values = southern_hemi_df[\"Cloudiness\"]\n",
    "# Call the function.\n",
    "plot_linear_regression(x_values, y_values,\n",
    "                       'Linear Regression on the Southern Hemisphere'+ '\\n' +\n",
    "                       'for % Cloudiness', 'Cloudiness',(-50,60))"
   ]
  },
  {
   "cell_type": "code",
   "execution_count": null,
   "id": "f836ec6b",
   "metadata": {},
   "outputs": [],
   "source": [
    "# Linear regression on the Northern Hemisphere\n",
    "x_values = northern_hemi_df[\"Lat\"]\n",
    "y_values = northern_hemi_df[\"Wind Speed\"]\n",
    "# Call the function.\n",
    "plot_linear_regression(x_values, y_values,\n",
    "                       'Linear Regression on the Northern Hemisphere'+ '\\n' +\n",
    "                       'for Wind Speed', 'Wind Speed',(10,25))"
   ]
  },
  {
   "cell_type": "code",
   "execution_count": null,
   "id": "26a37ac3",
   "metadata": {},
   "outputs": [],
   "source": [
    "# Linear regression on the Northern Hemisphere\n",
    "x_values = southern_hemi_df[\"Lat\"]\n",
    "y_values = southern_hemi_df[\"Wind Speed\"]\n",
    "# Call the function.\n",
    "plot_linear_regression(x_values, y_values,\n",
    "                       'Linear Regression on the Southern Hemisphere'+ '\\n' +\n",
    "                       'for Wind Speed', 'Wind Speed',(-40,25))"
   ]
  },
  {
   "cell_type": "code",
   "execution_count": null,
   "id": "3727381f",
   "metadata": {},
   "outputs": [],
   "source": []
  },
  {
   "cell_type": "code",
   "execution_count": null,
   "id": "b6b64c8b",
   "metadata": {},
   "outputs": [],
   "source": []
  }
 ],
 "metadata": {
  "kernelspec": {
   "display_name": "PythonData",
   "language": "python",
   "name": "pythondata"
  },
  "language_info": {
   "codemirror_mode": {
    "name": "ipython",
    "version": 3
   },
   "file_extension": ".py",
   "mimetype": "text/x-python",
   "name": "python",
   "nbconvert_exporter": "python",
   "pygments_lexer": "ipython3",
   "version": "3.7.11"
  }
 },
 "nbformat": 4,
 "nbformat_minor": 5
}
